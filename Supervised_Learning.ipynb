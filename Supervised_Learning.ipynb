{
  "nbformat": 4,
  "nbformat_minor": 0,
  "metadata": {
    "colab": {
      "provenance": [],
      "include_colab_link": true
    },
    "kernelspec": {
      "name": "python3",
      "display_name": "Python 3"
    },
    "language_info": {
      "name": "python"
    }
  },
  "cells": [
    {
      "cell_type": "markdown",
      "metadata": {
        "id": "view-in-github",
        "colab_type": "text"
      },
      "source": [
        "<a href=\"https://colab.research.google.com/github/gus474/Biosystem-Engineering-Supervised-Learning-II/blob/main/Supervised_Learning.ipynb\" target=\"_parent\"><img src=\"https://colab.research.google.com/assets/colab-badge.svg\" alt=\"Open In Colab\"/></a>"
      ]
    },
    {
      "cell_type": "markdown",
      "metadata": {
        "id": "mgtFcrU3e7Cb"
      },
      "source": [
        "#### Data prepared for model training and evaluation\n",
        "- Loaded Cherry spectral dataset as a Pandas DataFrame and assigning it to the variable name `df_cherry_spectral`\n",
        "- Extracted only `Bing` variety rows and overwriting `df_cherry_spectral`\n",
        "- Randomly shuffled `df_cherry_spectral` using the `.sample(frac=1, random_state=0)` method (this is needed for to avoid any sequential patterns along rows)\n",
        "- Split `df_cherry_spectral` into train and test dataframes called `df_cherry_spectral_train` and `df_cherry_spectral_test`, respectively. Since I already shuffled the rows above I can just use dataframe indexing. I put the first 50 rows into `df_cherry_spectral_test` and the remaining rows into `df_cherry_spectral_train`.\n",
        "- Created the `X_train`, `X_test`, `y_train`, and `y_test`."
      ]
    },
    {
      "cell_type": "code",
      "metadata": {
        "colab": {
          "base_uri": "https://localhost:8080/"
        },
        "id": "AVdVhxGPJbrP",
        "outputId": "43885756-b169-457f-b1fb-f22d9b844c0c"
      },
      "source": [
        "from google.colab import drive\n",
        "drive.mount('/content/drive')"
      ],
      "execution_count": null,
      "outputs": [
        {
          "output_type": "stream",
          "name": "stdout",
          "text": [
            "Mounted at /content/drive\n"
          ]
        }
      ]
    },
    {
      "cell_type": "code",
      "metadata": {
        "id": "LDrSQK00e7Li"
      },
      "source": [
        "# Load libraries and modules\n",
        "import pandas as pd\n",
        "import numpy as np\n",
        "\n",
        "# Read csv file into dataframe\n",
        "df_cherry_spectral = pd.read_table('/content/drive/MyDrive/cherry_data_spectral.csv', sep=',', index_col='fruit_id')\n",
        "\n",
        "# Extract 'Bing' variety only\n",
        "df_cherry_spectral = df_cherry_spectral[df_cherry_spectral['variety'] == 'Bing']\n",
        "\n",
        "# Shuffle rows\n",
        "df_cherry_spectral = df_cherry_spectral.sample(frac=1, random_state=0)\n",
        "\n",
        "# Train/test split\n",
        "df_cherry_spectral_train = df_cherry_spectral[50:]\n",
        "df_cherry_spectral_test = df_cherry_spectral[0:50]\n",
        "\n",
        "# Split the train and test data into X and y\n",
        "X_train = df_cherry_spectral_train.drop(columns=['variety', 'dry_matter_ratio'])\n",
        "X_test = df_cherry_spectral_test.drop(columns=['variety', 'dry_matter_ratio'])\n",
        "y_train = df_cherry_spectral_train['dry_matter_ratio']\n",
        "y_test = df_cherry_spectral_test['dry_matter_ratio']"
      ],
      "execution_count": null,
      "outputs": []
    },
    {
      "cell_type": "markdown",
      "metadata": {
        "id": "vhI3-g5CEUIz"
      },
      "source": [
        "#### I defined a model evaluation function to use in the questions below\n",
        "- The function is called `evaluate_model`\n",
        "- The function takes the following input arguments:\n",
        " - `y_train`: Known $y$ output for train set\n",
        " - `y_test`: Known $y$ output for test set\n",
        " - `y_train_pred`: Model predictions of $y$ based on `x_train` for train set\n",
        " - `y_test_pred`: Model predictions of $y$ based on `x_test` for test set\n",
        "- The function returns a tuple of 6 values containing the following outputs:\n",
        " - `mean_squared_error_train`\n",
        " - `mean_squared_error_test`\n",
        " - `mean_absolute_error_train`\n",
        " - `mean_absolute_error_test`\n",
        " - `r2_train`\n",
        " - `r2_test`\n",
        "- The function uses other functions from the `sklearn.metrics` module to generate these six outputs."
      ]
    },
    {
      "cell_type": "code",
      "metadata": {
        "id": "re-FBDJNJWL4"
      },
      "source": [
        "from sklearn.metrics import mean_squared_error, r2_score, mean_absolute_error"
      ],
      "execution_count": null,
      "outputs": []
    },
    {
      "cell_type": "code",
      "metadata": {
        "id": "c1toFUM5HDRR"
      },
      "source": [
        "\n",
        "\n",
        "def evaluate_model(y_train, y_test, y_train_pred, y_test_pred ):\n",
        "  mean_squared_error_train = mean_squared_error(y_train, y_train_pred, squared = False) #Defining the RMSE metric.\n",
        "  mean_squared_error_test = mean_squared_error(y_test, y_test_pred, squared = False)\n",
        "  mean_absolute_error_train = mean_absolute_error(y_train, y_train_pred) #MAE metric.\n",
        "  mean_absolute_error_test = mean_absolute_error(y_test, y_test_pred)\n",
        "  r2_train = r2_score(y_train, y_train_pred) #R_squared metric.\n",
        "  r2_test = r2_score(y_test, y_test_pred)\n",
        "\n",
        "  return(mean_squared_error_train,  mean_squared_error_test, mean_absolute_error_train, mean_absolute_error_test, r2_train, r2_test)\n"
      ],
      "execution_count": null,
      "outputs": []
    },
    {
      "cell_type": "markdown",
      "metadata": {
        "id": "zE_GhDz7agFj"
      },
      "source": [
        "#### Single variable linear model based on best Pearson's r value\n",
        "- Similar to previous analyses, I'm using the spectral band with the highest absolute Pearson's r value in the `Bing` variety to fit a linear model.\n",
        "- I then predict `y_pred_train` and `y_pred_test` using this model.\n",
        "- Then evaluate the model on the train and test sets using the `evaluate_model()` function."
      ]
    },
    {
      "cell_type": "code",
      "metadata": {
        "id": "3Chu89VLNEW3"
      },
      "source": [
        "#df_cherry_spectral['abs_828']"
      ],
      "execution_count": null,
      "outputs": []
    },
    {
      "cell_type": "code",
      "metadata": {
        "id": "bZoBzLCNMe8X",
        "colab": {
          "base_uri": "https://localhost:8080/",
          "height": 35
        },
        "outputId": "b9d1f2fa-61a6-426c-b6c0-c406a4ec10c4"
      },
      "source": [
        "corr_matrix_bing = df_cherry_spectral.corr() #Assigning a correlation matrix.\n",
        "corr_matrix_bing = corr_matrix_bing.sort_values(by = 'dry_matter_ratio', ascending = False) #Sorting the values from most closely correlated with dry_matter_ratio to least (in terms of spectra).\n",
        "corr_matrix_bing = corr_matrix_bing.abs() #Because we could have negative correlations.\n",
        "#corr_matrix_bing\n",
        "corr_matrix_bing = corr_matrix_bing.drop(labels = 'dry_matter_ratio')\n",
        "X_pearson_r = corr_matrix_bing['dry_matter_ratio'].index #Indexing the values so we can retreive the names.\n",
        "#X_pearson_r[0:3]\n",
        "#corr_matrix_bing = corr_matrix_bing[corr_matrix_bing != 1]\n",
        "##best_var = corr_matrix_bing.idxmax()\n",
        "#best_var\n",
        "#one_best_var = best_var[0]\n",
        "#one_best_var\n",
        "#X_pearson_r\n",
        "#df_cherry_spectral\n",
        "X_pearson_r"
      ],
      "execution_count": null,
      "outputs": [
        {
          "output_type": "execute_result",
          "data": {
            "application/vnd.google.colaboratory.intrinsic+json": {
              "type": "string"
            },
            "text/plain": [
              "'abs_828'"
            ]
          },
          "metadata": {
            "tags": []
          },
          "execution_count": 35
        }
      ]
    },
    {
      "cell_type": "code",
      "metadata": {
        "colab": {
          "base_uri": "https://localhost:8080/"
        },
        "id": "pSvJMpwCRnWN",
        "outputId": "5a6ebb8f-c011-4008-f41d-3f36c2f0cddc"
      },
      "source": [
        "from sklearn import linear_model\n",
        "lm = linear_model.LinearRegression() #Calling the Linear regression function.\n",
        "#X1n = X_train['abs_828'][np.newaxis, :].reshape(-1,1)\n",
        "#X1t = X_test['abs_828'][np.newaxis, :].reshape(-1,1)\n",
        "#y_train[np.newaxis, :].reshape(-1,1)\n",
        "#X_train = X_train[best_var]#[np.newaxis, :]\n",
        "X1n = np.array(X_train[X_pearson_r[0]]).reshape(-1, 1)\n",
        "X1t = np.array(X_test[X_pearson_r[0]]).reshape(-1, 1)\n",
        "lm.fit(X1n, y_train)\n",
        "y_train_pred = lm.predict(X1n) #predicting the model on the training data.\n",
        "lm.fit(X1t, y_test)\n",
        "y_test_pred = lm.predict(X1t) #predicting the model on test data.\n",
        "evaluate_model(y_train, y_test, y_train_pred, y_test_pred) #Scores of the models.\n",
        "#y_test_pred = mstrain.\n",
        "#X_train.shape\n",
        "#y_train.shape\n",
        "#X1.shape"
      ],
      "execution_count": null,
      "outputs": [
        {
          "output_type": "execute_result",
          "data": {
            "text/plain": [
              "(0.062271701499586295,\n",
              " 0.06768115965206888,\n",
              " 0.04796231901680013,\n",
              " 0.054404042171081926,\n",
              " 0.6564652108188405,\n",
              " 0.679083117203998)"
            ]
          },
          "metadata": {
            "tags": []
          },
          "execution_count": 8
        }
      ]
    },
    {
      "cell_type": "markdown",
      "metadata": {
        "id": "KMVlk43JagKh"
      },
      "source": [
        "#### Three variable linear model based on best Pearson's r value\n",
        "- Using the three spectral bands with the highest absolute Pearson's r values in the `Bing` variety I fit a multivariate linear model.\n",
        "- Again predict `y_pred_train` and `y_pred_test` using this model.\n",
        "- Then evaluate the model on the train and test sets using the `evaluate_model()` function that we created above."
      ]
    },
    {
      "cell_type": "code",
      "metadata": {
        "colab": {
          "base_uri": "https://localhost:8080/"
        },
        "id": "jRBP1Y92fpEt",
        "outputId": "95596eef-3fcf-4eae-908b-21557c246c5b"
      },
      "source": [
        "\n",
        "\n",
        "X1n = np.array(X_train[X_pearson_r[0:3]]) #Taking the first three variables most closely correlated with dry_matter_ratio\n",
        "X1t = np.array(X_test[X_pearson_r[0:3]])\n",
        "y_train = np.array(y_train)\n",
        "#X1t.shape\n",
        "#X = np.array(df_boston_housing.drop(columns='MEDV'))\n",
        "#y = np.array(df_boston_housing['MEDV'])\n",
        "lm.fit(X1n, y_train)\n",
        "y_train_pred = lm.predict(X1n) #Predciting\n",
        "lm.fit(X1t, y_test)\n",
        "y_test_pred = lm.predict(X1t)\n",
        "evaluate_model(y_train, y_test, y_train_pred, y_test_pred)"
      ],
      "execution_count": null,
      "outputs": [
        {
          "output_type": "execute_result",
          "data": {
            "text/plain": [
              "(0.05772328017811417,\n",
              " 0.06350022266339034,\n",
              " 0.044560363271413814,\n",
              " 0.048728975897691394,\n",
              " 0.7048170534755367,\n",
              " 0.7175071379108322)"
            ]
          },
          "metadata": {
            "tags": []
          },
          "execution_count": 19
        }
      ]
    },
    {
      "cell_type": "markdown",
      "metadata": {
        "id": "AqhDbzAkBHDG"
      },
      "source": [
        "#### I've iteratively trained 263 linear models, each of which includes one additional spectral variable as an input\n",
        "- The initial model includes 1 spectral variable, whereas the final model will have all 263 spectral variable\n",
        "- The spectral variables are introduced from strongest to weakest absolute correlation based on Pearson's r\n",
        "- I used 10-fold cross-validation to calculate the mean RMSE value on the train set for each iteration and appended each RMSE value to a list called `rmse_val_imax_r_list`\n",
        "- After plotting the resulting RMSE (y-axis) vs. number of spectral variables in the model (x-axis), I've include a red vertical line that shows the number of spectral variables at which the model with a minimum RMSE occurs. This is the best model found on the training set via 10-fold cross validation. I've printed this value on the plot as well.\n",
        "- Predicted `y_pred_train` and `y_pred_test` using this best model that corresponds with the minimum RMSE value.\n",
        "- Evaluated the model on the train and test sets using the `evaluate_model()` function."
      ]
    },
    {
      "cell_type": "code",
      "metadata": {
        "colab": {
          "base_uri": "https://localhost:8080/"
        },
        "id": "g6eP-nK8OL-G",
        "outputId": "ff70e098-cda6-430e-9732-019b35bc3e89"
      },
      "source": [
        "y = df_cherry_spectral['dry_matter_ratio']\n",
        "X =df_cherry_spectral.drop(columns= ['variety', 'dry_matter_ratio'])\n",
        "X[X_pearson_r[0:1]] #Checking to make sure that the model pulls the most cloesly related features for the entire dataset.\n"
      ],
      "execution_count": null,
      "outputs": [
        {
          "output_type": "execute_result",
          "data": {
            "text/plain": [
              "(210, 263)"
            ]
          },
          "metadata": {
            "tags": []
          },
          "execution_count": 37
        }
      ]
    },
    {
      "cell_type": "code",
      "metadata": {
        "id": "ZC-jl5XNxuho"
      },
      "source": [
        "rmse_val_imax_r_list = []\n",
        "from sklearn.model_selection import cross_val_score\n",
        "y = np.array(df_cherry_spectral['dry_matter_ratio'])#.reshape(-1,1)\n",
        "X = df_cherry_spectral.drop(columns= ['variety', 'dry_matter_ratio'])\n",
        "#i = 0\n",
        "for i in range(1,263):\n",
        "  X_number = X[X_pearson_r[0:i]]\n",
        "  rmse_cv = -cross_val_score(lm, X_number, y, scoring='neg_root_mean_squared_error', cv=10) #Cross validation function that trains on 9 of the data folds, and tests on the kth fold.\n",
        "  rmse_val_imax_r_list.append(rmse_cv.mean())\n",
        "\n",
        "  #X_number_train = np.array(X_train[X_number])#.reshape(-1, 1)#'abs_828'\n",
        "  #X_number_test = np.array(X_test[X_number])\n",
        "  #lm.fit(X_number_train, y_train)\n",
        "  #y_train_pred = lm.predict(X_number_train) #np.array(X1).reshape(-1, 1)\n",
        "  #lm.fit(X_number_test, y_test)\n",
        "  #y_test_pred = lm.predict(X_number_test)\n",
        "  #evaluate_model(y_train, y_test, y_train_pred, y_test_pred)\n"
      ],
      "execution_count": null,
      "outputs": []
    },
    {
      "cell_type": "code",
      "metadata": {
        "colab": {
          "base_uri": "https://localhost:8080/"
        },
        "id": "OTCP3znX49tQ",
        "outputId": "1eefb846-0015-4776-f5d4-eb31a7567ef0"
      },
      "source": [
        "#a = rmse_val_imax_r_list\n",
        "#a = a.sort()\n",
        "min_val = min(rmse_val_imax_r_list) #Finding the minimum magnitude of the list.\n",
        "min_val_index = rmse_val_imax_r_list.index(min_val) #Finding the index of that minimum magnitude value. (Since the model is forward stepwise selection-like, thus, we know that the index of the model is the number of features.)\n",
        "min_val_index\n",
        "#rmse_val_imax_r_list[rmse_val_imax_r_list == 0.057604808891267845]\n",
        "#rmse_val_imax_r_list\n",
        "#rmse_val_imax_r_list[rmse_val_imax_r_list == a[0]]\n",
        "#rmse_val_imax_r_list ==  a[0]\n"
      ],
      "execution_count": null,
      "outputs": [
        {
          "output_type": "execute_result",
          "data": {
            "text/plain": [
              "6"
            ]
          },
          "metadata": {
            "tags": []
          },
          "execution_count": 20
        }
      ]
    },
    {
      "cell_type": "code",
      "metadata": {
        "colab": {
          "base_uri": "https://localhost:8080/",
          "height": 282
        },
        "id": "b65vT7Zb258z",
        "outputId": "cbd65f56-70a9-4cec-ce12-3d7033a587f6"
      },
      "source": [
        "import matplotlib.pyplot as plt\n",
        "import matplotlib.ticker\n",
        "x = range(1,263)\n",
        "\n",
        "plt.axvline(x = 6, color = 'r') #Plotting best feature line.\n",
        "#plt.axvline(y = min_val_index, linest)\n",
        "#plt.axhline(y=0.5, color='r', linestyle='--', label='label')\n",
        "\n",
        "\n",
        "plt.axhline(y= min_val, xmin = 0, xmax = 6, linestyle = '--', label = str(min_val), color = 'gray') #Plotting minimum RMSE value line (~0.0576)\n",
        "plt.legend()\n",
        "plt.text(min_val_index + 10, 2, s = 'best model', size=12, color='r') #displaying the value since I couldn't figure out how to show more numbers in the yticks.\n",
        "plt.yticks(np.arange(0,3,.5) + min_val)\n",
        "plt.plot(x, rmse_val_imax_r_list)\n"
      ],
      "execution_count": null,
      "outputs": [
        {
          "output_type": "execute_result",
          "data": {
            "text/plain": [
              "[<matplotlib.lines.Line2D at 0x7fdbb11dcb10>]"
            ]
          },
          "metadata": {
            "tags": []
          },
          "execution_count": 21
        },
        {
          "output_type": "display_data",
          "data": {
            "image/png": "[encoded data removed]",
            "text/plain": [
              "<Figure size 432x288 with 1 Axes>"
            ]
          },
          "metadata": {
            "tags": [],
            "needs_background": "light"
          }
        }
      ]
    },
    {
      "cell_type": "code",
      "metadata": {
        "id": "EWiXhq-93JiH",
        "colab": {
          "base_uri": "https://localhost:8080/"
        },
        "outputId": "922858bc-2ec0-49a2-c457-5ceb81e93756"
      },
      "source": [
        "nX_train = np.array(X_train[X_pearson_r[0:min_val_index]]) #Taking the minimum RMSE model features.\n",
        "nX_test = np.array(X_test[X_pearson_r[0:min_val_index]])\n",
        "lm = linear_model.LinearRegression()\n",
        "lm.fit(nX_train, y_train) #Training our minimum RMSE model\n",
        "y_train_pred = lm.predict(nX_train)\n",
        "lm.fit(nX_test, y_test)\n",
        "y_test_pred = lm.predict(nX_test) #Predicting that model on testing data.\n",
        "evaluate_model(y_train, y_test, y_train_pred, y_test_pred) #Scoring metrics.\n"
      ],
      "execution_count": null,
      "outputs": [
        {
          "output_type": "execute_result",
          "data": {
            "text/plain": [
              "(0.05513389952186275,\n",
              " 0.056677769587482704,\n",
              " 0.042603103288665636,\n",
              " 0.043617659279760516,\n",
              " 0.7307059983841883,\n",
              " 0.7749482029787231)"
            ]
          },
          "metadata": {
            "tags": []
          },
          "execution_count": 22
        }
      ]
    },
    {
      "cell_type": "markdown",
      "metadata": {
        "id": "vrmvfcnBErtD"
      },
      "source": [
        "#### Defined a function for standardizing a 2d array called `standardize_arr()`. For each column in $\\textbf{X}$ dataframes this function:\n",
        " (1) Subtracts the mean of the values in that column\n",
        "\n",
        " (2) Divides by the standard deviation of the values in that column returning a standardized array.\n"
      ]
    },
    {
      "cell_type": "code",
      "metadata": {
        "id": "5v0UHFSyrSuj"
      },
      "source": [
        "def standardize_arr(x):\n",
        "  x_mean = x.mean(axis = 0)\n",
        "  x_sd = x.std(axis = 0)\n",
        "  Xnew = (x - x_mean)/x_sd\n",
        "  return Xnew\n",
        "#X = np.array(X)\n",
        "#standardize_arr(X)\n",
        "#X.std(axis = 0)\n",
        "#X_mean = X.mean(axis=0)\n",
        "#X_sd = X.std(axis = 0)\n",
        "#standaredize_arr = (X - X_mean)/X_sd\n",
        "#standaredize_arr"
      ],
      "execution_count": null,
      "outputs": []
    },
    {
      "cell_type": "markdown",
      "metadata": {
        "id": "mjkhyvbTczOZ"
      },
      "source": [
        "#### Recursive Feature Elimination using Cross-Validation (RFECV) for feature selection\n",
        "- Standardized `X_train`\n",
        "- Used RFECV with 10-fold cross validation that is scored using RMSE\n",
        "- Fitted a model to the training data using RFECV\n",
        "- Ploted the resulting RMSE (y-axis) vs. number of spectral variables in the model (x-axis). Included a red vertical line that shows the number of spectral variables which the RFECV algorithm recommends keeping. This is the best model found on the training set via 10-fold cross validation.\n",
        "- Predicted `y_pred_train` and `y_pred_test` using this best model & evaluate the model on the train and test sets using the `evaluate_model()` function."
      ]
    },
    {
      "cell_type": "code",
      "metadata": {
        "id": "qhYkkpSAsYE_"
      },
      "source": [
        "from sklearn.feature_selection import RFECV\n",
        "\n",
        "lm = linear_model.LinearRegression()\n",
        "stanX_train = standardize_arr(X_train)\n",
        "feature_selector = RFECV(lm, cv = 10, scoring= 'neg_root_mean_squared_error')\n",
        "feature_selector = feature_selector.fit(stanX_train, y_train) #Recursively finding best model in a backward stepwise selection manner.\n",
        "\n"
      ],
      "execution_count": null,
      "outputs": []
    },
    {
      "cell_type": "code",
      "metadata": {
        "colab": {
          "base_uri": "https://localhost:8080/"
        },
        "id": "KSiSQxiFuRYz",
        "outputId": "f62f92a9-aca5-444f-c3e7-35116eb1a0ef"
      },
      "source": [
        "from sklearn.model_selection import cross_val_score\n",
        "\n",
        "best_rfecv_model = np.where(feature_selector.ranking_ == 1)[0]\n",
        "best_rfecv_model\n",
        "#The RFECV model has 11 features which are shown below."
      ],
      "execution_count": null,
      "outputs": [
        {
          "output_type": "execute_result",
          "data": {
            "text/plain": [
              "array([130, 139, 143, 149, 150, 151, 152, 158, 159, 160, 161])"
            ]
          },
          "metadata": {
            "tags": []
          },
          "execution_count": 25
        }
      ]
    },
    {
      "cell_type": "code",
      "metadata": {
        "colab": {
          "base_uri": "https://localhost:8080/"
        },
        "id": "oRnA6yNT06Nx",
        "outputId": "050d09c2-d29d-48f0-abc3-e3b05c57d79d"
      },
      "source": [
        "#The names of the features chosen in our RFECV model.\n",
        "names = X_train.columns[best_rfecv_model]\n",
        "names"
      ],
      "execution_count": null,
      "outputs": [
        {
          "output_type": "execute_result",
          "data": {
            "text/plain": [
              "Index(['abs_741', 'abs_768', 'abs_780', 'abs_798', 'abs_801', 'abs_804',\n",
              "       'abs_807', 'abs_825', 'abs_828', 'abs_831', 'abs_834'],\n",
              "      dtype='object')"
            ]
          },
          "metadata": {
            "tags": []
          },
          "execution_count": 26
        }
      ]
    },
    {
      "cell_type": "code",
      "metadata": {
        "colab": {
          "base_uri": "https://localhost:8080/",
          "height": 450
        },
        "id": "M0KHp00D9jfp",
        "outputId": "7a413360-3f2b-40c1-fc10-8270657e3948"
      },
      "source": [
        "X_train[names]"
      ],
      "execution_count": null,
      "outputs": [
        {
          "output_type": "execute_result",
          "data": {
            "text/html": [
              "<div>\n",
              "<style scoped>\n",
              "    .dataframe tbody tr th:only-of-type {\n",
              "        vertical-align: middle;\n",
              "    }\n",
              "\n",
              "    .dataframe tbody tr th {\n",
              "        vertical-align: top;\n",
              "    }\n",
              "\n",
              "    .dataframe thead th {\n",
              "        text-align: right;\n",
              "    }\n",
              "</style>\n",
              "<table border=\"1\" class=\"dataframe\">\n",
              "  <thead>\n",
              "    <tr style=\"text-align: right;\">\n",
              "      <th></th>\n",
              "      <th>abs_741</th>\n",
              "      <th>abs_768</th>\n",
              "      <th>abs_780</th>\n",
              "      <th>abs_798</th>\n",
              "      <th>abs_801</th>\n",
              "      <th>abs_804</th>\n",
              "      <th>abs_807</th>\n",
              "      <th>abs_825</th>\n",
              "      <th>abs_828</th>\n",
              "      <th>abs_831</th>\n",
              "      <th>abs_834</th>\n",
              "    </tr>\n",
              "    <tr>\n",
              "      <th>fruit_id</th>\n",
              "      <th></th>\n",
              "      <th></th>\n",
              "      <th></th>\n",
              "      <th></th>\n",
              "      <th></th>\n",
              "      <th></th>\n",
              "      <th></th>\n",
              "      <th></th>\n",
              "      <th></th>\n",
              "      <th></th>\n",
              "      <th></th>\n",
              "    </tr>\n",
              "  </thead>\n",
              "  <tbody>\n",
              "    <tr>\n",
              "      <th>628</th>\n",
              "      <td>-0.30250</td>\n",
              "      <td>-0.39498</td>\n",
              "      <td>-0.42471</td>\n",
              "      <td>-0.46089</td>\n",
              "      <td>-0.46570</td>\n",
              "      <td>-0.47016</td>\n",
              "      <td>-0.47421</td>\n",
              "      <td>-0.48906</td>\n",
              "      <td>-0.48918</td>\n",
              "      <td>-0.48903</td>\n",
              "      <td>-0.48900</td>\n",
              "    </tr>\n",
              "    <tr>\n",
              "      <th>759</th>\n",
              "      <td>-0.37502</td>\n",
              "      <td>-0.43328</td>\n",
              "      <td>-0.45277</td>\n",
              "      <td>-0.47725</td>\n",
              "      <td>-0.48049</td>\n",
              "      <td>-0.48346</td>\n",
              "      <td>-0.48603</td>\n",
              "      <td>-0.49286</td>\n",
              "      <td>-0.49175</td>\n",
              "      <td>-0.49033</td>\n",
              "      <td>-0.48904</td>\n",
              "    </tr>\n",
              "    <tr>\n",
              "      <th>874</th>\n",
              "      <td>-0.47743</td>\n",
              "      <td>-0.50121</td>\n",
              "      <td>-0.51282</td>\n",
              "      <td>-0.53018</td>\n",
              "      <td>-0.53257</td>\n",
              "      <td>-0.53473</td>\n",
              "      <td>-0.53655</td>\n",
              "      <td>-0.53852</td>\n",
              "      <td>-0.53637</td>\n",
              "      <td>-0.53392</td>\n",
              "      <td>-0.53175</td>\n",
              "    </tr>\n",
              "    <tr>\n",
              "      <th>906</th>\n",
              "      <td>-0.42846</td>\n",
              "      <td>-0.45267</td>\n",
              "      <td>-0.46410</td>\n",
              "      <td>-0.48103</td>\n",
              "      <td>-0.48334</td>\n",
              "      <td>-0.48547</td>\n",
              "      <td>-0.48721</td>\n",
              "      <td>-0.48915</td>\n",
              "      <td>-0.48711</td>\n",
              "      <td>-0.48481</td>\n",
              "      <td>-0.48276</td>\n",
              "    </tr>\n",
              "    <tr>\n",
              "      <th>610</th>\n",
              "      <td>-0.42274</td>\n",
              "      <td>-0.45941</td>\n",
              "      <td>-0.47381</td>\n",
              "      <td>-0.49355</td>\n",
              "      <td>-0.49625</td>\n",
              "      <td>-0.49871</td>\n",
              "      <td>-0.50086</td>\n",
              "      <td>-0.50605</td>\n",
              "      <td>-0.50481</td>\n",
              "      <td>-0.50332</td>\n",
              "      <td>-0.50204</td>\n",
              "    </tr>\n",
              "    <tr>\n",
              "      <th>...</th>\n",
              "      <td>...</td>\n",
              "      <td>...</td>\n",
              "      <td>...</td>\n",
              "      <td>...</td>\n",
              "      <td>...</td>\n",
              "      <td>...</td>\n",
              "      <td>...</td>\n",
              "      <td>...</td>\n",
              "      <td>...</td>\n",
              "      <td>...</td>\n",
              "      <td>...</td>\n",
              "    </tr>\n",
              "    <tr>\n",
              "      <th>725</th>\n",
              "      <td>-0.36221</td>\n",
              "      <td>-0.42978</td>\n",
              "      <td>-0.45193</td>\n",
              "      <td>-0.47966</td>\n",
              "      <td>-0.48334</td>\n",
              "      <td>-0.48672</td>\n",
              "      <td>-0.48971</td>\n",
              "      <td>-0.49868</td>\n",
              "      <td>-0.49778</td>\n",
              "      <td>-0.49662</td>\n",
              "      <td>-0.49561</td>\n",
              "    </tr>\n",
              "    <tr>\n",
              "      <th>900</th>\n",
              "      <td>-0.44333</td>\n",
              "      <td>-0.46595</td>\n",
              "      <td>-0.47835</td>\n",
              "      <td>-0.49724</td>\n",
              "      <td>-0.49984</td>\n",
              "      <td>-0.50220</td>\n",
              "      <td>-0.50418</td>\n",
              "      <td>-0.50594</td>\n",
              "      <td>-0.50340</td>\n",
              "      <td>-0.50049</td>\n",
              "      <td>-0.49786</td>\n",
              "    </tr>\n",
              "    <tr>\n",
              "      <th>800</th>\n",
              "      <td>-0.47707</td>\n",
              "      <td>-0.48855</td>\n",
              "      <td>-0.49766</td>\n",
              "      <td>-0.51280</td>\n",
              "      <td>-0.51498</td>\n",
              "      <td>-0.51697</td>\n",
              "      <td>-0.51862</td>\n",
              "      <td>-0.52025</td>\n",
              "      <td>-0.51814</td>\n",
              "      <td>-0.51575</td>\n",
              "      <td>-0.51357</td>\n",
              "    </tr>\n",
              "    <tr>\n",
              "      <th>705</th>\n",
              "      <td>-0.44079</td>\n",
              "      <td>-0.46617</td>\n",
              "      <td>-0.47789</td>\n",
              "      <td>-0.49476</td>\n",
              "      <td>-0.49702</td>\n",
              "      <td>-0.49905</td>\n",
              "      <td>-0.50072</td>\n",
              "      <td>-0.50128</td>\n",
              "      <td>-0.49882</td>\n",
              "      <td>-0.49606</td>\n",
              "      <td>-0.49358</td>\n",
              "    </tr>\n",
              "    <tr>\n",
              "      <th>880</th>\n",
              "      <td>-0.43076</td>\n",
              "      <td>-0.47019</td>\n",
              "      <td>-0.48552</td>\n",
              "      <td>-0.50650</td>\n",
              "      <td>-0.50932</td>\n",
              "      <td>-0.51189</td>\n",
              "      <td>-0.51409</td>\n",
              "      <td>-0.51842</td>\n",
              "      <td>-0.51669</td>\n",
              "      <td>-0.51470</td>\n",
              "      <td>-0.51290</td>\n",
              "    </tr>\n",
              "  </tbody>\n",
              "</table>\n",
              "<p>160 rows × 11 columns</p>\n",
              "</div>"
            ],
            "text/plain": [
              "          abs_741  abs_768  abs_780  ...  abs_828  abs_831  abs_834\n",
              "fruit_id                             ...                           \n",
              "628      -0.30250 -0.39498 -0.42471  ... -0.48918 -0.48903 -0.48900\n",
              "759      -0.37502 -0.43328 -0.45277  ... -0.49175 -0.49033 -0.48904\n",
              "874      -0.47743 -0.50121 -0.51282  ... -0.53637 -0.53392 -0.53175\n",
              "906      -0.42846 -0.45267 -0.46410  ... -0.48711 -0.48481 -0.48276\n",
              "610      -0.42274 -0.45941 -0.47381  ... -0.50481 -0.50332 -0.50204\n",
              "...           ...      ...      ...  ...      ...      ...      ...\n",
              "725      -0.36221 -0.42978 -0.45193  ... -0.49778 -0.49662 -0.49561\n",
              "900      -0.44333 -0.46595 -0.47835  ... -0.50340 -0.50049 -0.49786\n",
              "800      -0.47707 -0.48855 -0.49766  ... -0.51814 -0.51575 -0.51357\n",
              "705      -0.44079 -0.46617 -0.47789  ... -0.49882 -0.49606 -0.49358\n",
              "880      -0.43076 -0.47019 -0.48552  ... -0.51669 -0.51470 -0.51290\n",
              "\n",
              "[160 rows x 11 columns]"
            ]
          },
          "metadata": {
            "tags": []
          },
          "execution_count": 27
        }
      ]
    },
    {
      "cell_type": "code",
      "metadata": {
        "colab": {
          "base_uri": "https://localhost:8080/",
          "height": 282
        },
        "id": "w6dLxxiW1m3Q",
        "outputId": "907ffce4-7b6f-490a-86f3-32e7d0057dfa"
      },
      "source": [
        "\n",
        "\n",
        "plt.plot(range(1, feature_selector.grid_scores_.shape[0] + 1), -feature_selector.grid_scores_)\n",
        "\n",
        "plt.vlines(x=feature_selector.n_features_, ymin=0, ymax=1, linestyles='dashed', colors='r') #Best model feature point.\n",
        "plt.text(x = 11 + 10, y = 0.8, s = 'Best model', color = 'r')\n",
        "plt.axhline(y= -feature_selector.grid_scores_[10], xmin = 0, xmax = 300, linestyle = '--', label = str(min_val), color = 'gray')\n",
        "plt.yticks(np.arange(0,1,.2) + -feature_selector.grid_scores_[10]) #Adding a ytick at the minimum RMSE value (~0.0576)\n",
        "plt.legend()"
      ],
      "execution_count": null,
      "outputs": [
        {
          "output_type": "execute_result",
          "data": {
            "text/plain": [
              "<matplotlib.legend.Legend at 0x7fdbaf0ebe10>"
            ]
          },
          "metadata": {
            "tags": []
          },
          "execution_count": 28
        },
        {
          "output_type": "display_data",
          "data": {
            "image/png": "[encoded data removed]",
            "text/plain": [
              "<Figure size 432x288 with 1 Axes>"
            ]
          },
          "metadata": {
            "tags": [],
            "needs_background": "light"
          }
        }
      ]
    },
    {
      "cell_type": "code",
      "metadata": {
        "colab": {
          "base_uri": "https://localhost:8080/"
        },
        "id": "lPBT_sflvHmT",
        "outputId": "e374fa65-e8b1-4d5a-fc87-78c3719dde12"
      },
      "source": [
        "nX_train = np.array(X_train[names])\n",
        "nX_test = np.array(X_test[names])\n",
        "lm.fit(nX_train, y_train)\n",
        "y_train_pred = lm.predict(nX_train)\n",
        "lm.fit(nX_test, y_test)\n",
        "y_test_pred = lm.predict(nX_test)\n",
        "evaluate_model(y_train, y_test, y_train_pred, y_test_pred)\n"
      ],
      "execution_count": null,
      "outputs": [
        {
          "output_type": "execute_result",
          "data": {
            "text/plain": [
              "(0.05332411224038054,\n",
              " 0.05555443934168409,\n",
              " 0.04118230544876359,\n",
              " 0.043004273817173574,\n",
              " 0.748095151418624,\n",
              " 0.783780668394366)"
            ]
          },
          "metadata": {
            "tags": []
          },
          "execution_count": 29
        }
      ]
    },
    {
      "cell_type": "markdown",
      "metadata": {
        "id": "vaA8MHshUCJI"
      },
      "source": [
        "#### 1.h. Created a Pandas DataFrame which summarizes the results of all the tests conducted.\n",
        "- Provided my interpretation of the results, including a which model I consider to be the best in terms of (a) predictive performance and (b) generalizability."
      ]
    },
    {
      "cell_type": "code",
      "metadata": {
        "colab": {
          "base_uri": "https://localhost:8080/",
          "height": 235
        },
        "id": "gdwT4zsKFx54",
        "outputId": "3fd99eef-a41b-4217-94f8-8b1c61e6e2c5"
      },
      "source": [
        "dict_model_performance = { #assigning dataframe.\n",
        "    \"Pearson R 1 Variable\": pd.Series([0.062271701499586295,\n",
        " 0.06768115965206888,\n",
        " 0.04796231901680013,\n",
        " 0.054404042171081926,\n",
        " 0.6564652108188405,\n",
        " 0.679083117203998], index=[\"RMSE train\", \"RMSE test\", \"MAE train\", \"MAE test\", \"R_2 train\",\"R_2 test\"]),\n",
        "    \"Pearson R 3 Variables\": pd.Series([0.05772328017811417,\n",
        " 0.06350022266339034,\n",
        " 0.044560363271413814,\n",
        " 0.048728975897691394,\n",
        " 0.7048170534755367,\n",
        " 0.7175071379108322], index=[\"RMSE train\", \"RMSE test\", \"MAE train\", \"MAE test\", \"R_2 train\",\"R_2 test\"]),\n",
        "    \"Best Pearson R Model\": pd.Series([0.05513389952186275,\n",
        " 0.056677769587482704,\n",
        " 0.042603103288665636,\n",
        " 0.043617659279760516,\n",
        " 0.7307059983841883,\n",
        " 0.7749482029787231], index=[\"RMSE train\", \"RMSE test\", \"MAE train\", \"MAE test\", \"R_2 train\",\"R_2 test\"]),\n",
        "    \"Best RFECV model\": pd.Series([0.05332411224038054,0.05555443934168409,0.04118230544876359,0.043004273817173574,0.748095151418624,0.783780668394366], index=[\"RMSE train\", \"RMSE test\", \"MAE train\", \"MAE test\", \"R_2 train\",\"R_2 test\"])\n",
        "\n",
        "}\n",
        "\n",
        "df_model_performance = pd.DataFrame(dict_model_performance)\n",
        "df_model_performance"
      ],
      "execution_count": null,
      "outputs": [
        {
          "output_type": "execute_result",
          "data": {
            "text/html": [
              "<div>\n",
              "<style scoped>\n",
              "    .dataframe tbody tr th:only-of-type {\n",
              "        vertical-align: middle;\n",
              "    }\n",
              "\n",
              "    .dataframe tbody tr th {\n",
              "        vertical-align: top;\n",
              "    }\n",
              "\n",
              "    .dataframe thead th {\n",
              "        text-align: right;\n",
              "    }\n",
              "</style>\n",
              "<table border=\"1\" class=\"dataframe\">\n",
              "  <thead>\n",
              "    <tr style=\"text-align: right;\">\n",
              "      <th></th>\n",
              "      <th>Pearson R 1 Variable</th>\n",
              "      <th>Pearson R 3 Variables</th>\n",
              "      <th>Best Pearson R Model</th>\n",
              "      <th>Best RFECV model</th>\n",
              "    </tr>\n",
              "  </thead>\n",
              "  <tbody>\n",
              "    <tr>\n",
              "      <th>RMSE train</th>\n",
              "      <td>0.062272</td>\n",
              "      <td>0.057723</td>\n",
              "      <td>0.055134</td>\n",
              "      <td>0.053324</td>\n",
              "    </tr>\n",
              "    <tr>\n",
              "      <th>RMSE test</th>\n",
              "      <td>0.067681</td>\n",
              "      <td>0.063500</td>\n",
              "      <td>0.056678</td>\n",
              "      <td>0.055554</td>\n",
              "    </tr>\n",
              "    <tr>\n",
              "      <th>MAE train</th>\n",
              "      <td>0.047962</td>\n",
              "      <td>0.044560</td>\n",
              "      <td>0.042603</td>\n",
              "      <td>0.041182</td>\n",
              "    </tr>\n",
              "    <tr>\n",
              "      <th>MAE test</th>\n",
              "      <td>0.054404</td>\n",
              "      <td>0.048729</td>\n",
              "      <td>0.043618</td>\n",
              "      <td>0.043004</td>\n",
              "    </tr>\n",
              "    <tr>\n",
              "      <th>R_2 train</th>\n",
              "      <td>0.656465</td>\n",
              "      <td>0.704817</td>\n",
              "      <td>0.730706</td>\n",
              "      <td>0.748095</td>\n",
              "    </tr>\n",
              "    <tr>\n",
              "      <th>R_2 test</th>\n",
              "      <td>0.679083</td>\n",
              "      <td>0.717507</td>\n",
              "      <td>0.774948</td>\n",
              "      <td>0.783781</td>\n",
              "    </tr>\n",
              "  </tbody>\n",
              "</table>\n",
              "</div>"
            ],
            "text/plain": [
              "            Pearson R 1 Variable  ...  Best RFECV model\n",
              "RMSE train              0.062272  ...          0.053324\n",
              "RMSE test               0.067681  ...          0.055554\n",
              "MAE train               0.047962  ...          0.041182\n",
              "MAE test                0.054404  ...          0.043004\n",
              "R_2 train               0.656465  ...          0.748095\n",
              "R_2 test                0.679083  ...          0.783781\n",
              "\n",
              "[6 rows x 4 columns]"
            ]
          },
          "metadata": {
            "tags": []
          },
          "execution_count": 30
        }
      ]
    },
    {
      "cell_type": "code",
      "metadata": {
        "id": "zFrdFarpuuUT"
      },
      "source": [
        "#The best mdoels in terms of prediction and generalizability is the RFECV model. The model scores the lowest in terms of RMSE and MAE when compared to all other models,\n",
        "#predicting the best. The model also has an R squared of 0.783781 on the testing data, the highest of all other models making it the best at predicting with out of sample data.\n",
        "#The RFEVC model also uses cross validation in training, allowing it to see more 'new' out of sample data, thus being the best model in terms of generalizability."
      ],
      "execution_count": null,
      "outputs": []
    }
  ]
}